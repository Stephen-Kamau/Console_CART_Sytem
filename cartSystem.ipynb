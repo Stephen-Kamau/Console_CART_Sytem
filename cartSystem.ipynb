{
 "cells": [
  {
   "cell_type": "code",
   "execution_count": 13,
   "metadata": {},
   "outputs": [],
   "source": [
    "import sys\n",
    "import warnings\n",
    "import os\n",
    "warnings.filterwarnings(\"ignore\")"
   ]
  },
  {
   "cell_type": "code",
   "execution_count": 14,
   "metadata": {},
   "outputs": [],
   "source": [
    "def ReadFileAndCreateCart():\n",
    "    \"\"\"\n",
    "    READS Values from a Test files\n",
    "    \"\"\"\n",
    "    #create a list to hold cart\n",
    "    # the cart will have other sublist inside it that will contain details for the items selected\n",
    "    cart = []\n",
    "    with open(\"Product and price lists.txt\" , \"r\") as f:\n",
    "        for line in f.readlines():\n",
    "            line = line.strip().split(\"=\")\n",
    "            if len(line)==1:\n",
    "                pass\n",
    "            else:\n",
    "                try:\n",
    "                    #read the first line\n",
    "                    iten_list = [item.split(\"\\'\")[1].strip() for item in line[1].split(\",\")]\n",
    "                except:\n",
    "                    #read the second line\n",
    "                    price_list = []\n",
    "                    for item in line[1].split(\",\"):\n",
    "                        #ensure that the data is is the needed format\n",
    "                        item = item.split(\"\\'\")[0]\n",
    "                        item = item.split(\"]\")[0].split()[0]\n",
    "                        if len(item.split(\"[\"))>1:   \n",
    "                            item = item.split(\"[\")[1].strip()\n",
    "                        price_list.append(float(item))\n",
    "    f.close()\n",
    "    #return the price , item and cart\n",
    "    return iten_list , price_list , cart"
   ]
  },
  {
   "cell_type": "code",
   "execution_count": 15,
   "metadata": {},
   "outputs": [],
   "source": [
    "# adding to cart\n",
    "# ask for code , quantity , shipping method\n",
    "# code and quantity must be int where 0<=code <=40  and   0 < quantity <=99\n",
    "# if code = END|end  exit the program\n",
    "\n",
    "def isValidCode(code):\n",
    "    \"\"\"\n",
    "    @INPUT - > code  which is the product code to be selected\n",
    "    @RETURN -> Bool whether the code meets some criteria\n",
    "    returns false if code is not END or code<0 or code>39\n",
    "    \"\"\"\n",
    "    #check first if it is end\n",
    "    if code.upper() == \"END\":\n",
    "        return True\n",
    "    else:\n",
    "        #use try-catch block in order to avoid program breaking because of int conversion\n",
    "        try:\n",
    "            #change to integer\n",
    "            code = int(code)\n",
    "        except ValueError:\n",
    "            return False\n",
    "        else:\n",
    "            #check the criteria\n",
    "            if int(code)>=0 and int(code) <= 39:\n",
    "                return True\n",
    "            else:\n",
    "                return False\n",
    "            \n",
    "\n",
    "def isValidQuantity(quantity):\n",
    "    \"\"\"\n",
    "    @INPUT -> quantity   which is the item amaount selected\n",
    "    @RETURNS -> Bool \n",
    "    returns true if quantity is between 1 and 99\n",
    "    \"\"\"\n",
    "    #convert to int\n",
    "    try:\n",
    "        quantity = int(quantity)\n",
    "    except Exception as e:\n",
    "        return False\n",
    "    else:\n",
    "        # check the condition\n",
    "        if int(quantity) >0 and int(quantity)<=99:\n",
    "            return True\n",
    "        else:\n",
    "            return False\n",
    "\n",
    "def isValidShipping(ship_method):\n",
    "    \"\"\"\n",
    "    @INPUT -> ship_method which is type of shipping\n",
    "    @RETURNS -> Bool\n",
    "    returns true if the method is either Pick-up or Delivery else false\n",
    "    \"\"\"\n",
    "    #check if it is among the two\n",
    "    if ship_method !=\"Pick-up\" and ship_method != \"Delivery\":\n",
    "        return False\n",
    "    else:\n",
    "        return True\n",
    "    "
   ]
  },
  {
   "cell_type": "code",
   "execution_count": null,
   "metadata": {},
   "outputs": [],
   "source": [
    "\n",
    "def addRecord():\n",
    "    \"\"\"\n",
    "    @INPUT -- > None as it is a function that alters cat.\n",
    "    Main functionalities like adding to cart are here.\n",
    "    Checks validity of the inputs first\n",
    "    Follow up steps are perfomed depending on the input validity\n",
    "    \"\"\"\n",
    "    # ask user for input always until the program is exited\n",
    "    while True:\n",
    "        #get inputs from the user\n",
    "        code = input(\"Please enter the product code:  \")\n",
    "        #exit if code is end\n",
    "        if code.upper() == \"END\":\n",
    "            #show the current cart\n",
    "            showRecords(cart_items)\n",
    "            print(\"\\n\\n\")\n",
    "            \n",
    "            #call controller function again\n",
    "            Controller()\n",
    "            #exit\n",
    "            break;\n",
    "        \n",
    "        else:\n",
    "            quantity = input(\"Enter the Quantity:  \")\n",
    "            #ask for delivery\n",
    "            delivery_method = input(\"Enter Delivery Method (Delivery or Pick-Up):   \")\n",
    "        \n",
    "            #add to cart only when all are good\n",
    "            if isValidCode(code) and isValidQuantity(quantity) and isValidShipping(delivery_method):\n",
    "                print(\"All are good\")\n",
    "                code = int(code)\n",
    "                quantity = int(quantity)\n",
    "                #add to cart\n",
    "                current_item = [code ,productList[code] , priceList[code] , quantity , delivery_method]\n",
    "                cart_items.append(current_item)\n",
    "                #add the current product to the main list\n",
    "                print(f\"Item with {code}  added to cart\")\n",
    "\n",
    "            #none of the input is correct    \n",
    "            elif not isValidCode(code) and not isValidQuantity(quantity) and not isValidShipping(delivery_method) :\n",
    "                print(\"Code , Shipping  and Quantity are not valid Valid\")\n",
    "            #only shipping is correct\n",
    "            elif not isValidCode(code) and not isValidQuantity(quantity):\n",
    "                print(\"Code and Quantity are not correct\")\n",
    "            #only code is correct\n",
    "            elif not isValidQuantity(quantity) and not isValidShipping(delivery_method):\n",
    "                print(\"Shipping and Quaantity are not correct\")\n",
    "            #only quantity is correct\n",
    "            elif not isValidCode(code) and not isValidShipping(delivery_method):\n",
    "                print(\"Shipping and code are not correct\")\n",
    "            #shipping not correct\n",
    "            elif not isValidShipping(delivery_method):\n",
    "                print(\"Shipping Method not corrected\")\n",
    "            #code ot correct\n",
    "            elif not isValidCode(code):\n",
    "                print(\"Code  not valid\")\n",
    "            #quantity not correct\n",
    "            else:\n",
    "                print(\"Quantity not valid\")\n",
    "            print(\"Items not Added to the Cart\")\n",
    "            print(\"\\n\\n\")"
   ]
  },
  {
   "cell_type": "code",
   "execution_count": null,
   "metadata": {},
   "outputs": [],
   "source": [
    "def totalCost(cart):\n",
    "    \"\"\"\n",
    "    @INPUT -> cart which is a list of items \n",
    "    Returns the total cost of the items in the list\n",
    "    \"\"\"\n",
    "    total_cost = 0\n",
    "    for item in cart:\n",
    "        #check if the shipping is delievery\n",
    "        if item[4] == \"Delivery\":\n",
    "            #shipping fees is 10%\n",
    "            total_item_price = 1.1*(item[2]*item[3])\n",
    "        else:\n",
    "            total_item_price = item[2]*item[3]\n",
    "            \n",
    "        total_cost =total_cost +  total_item_price\n",
    "    return round(total_cost , 2)\n"
   ]
  },
  {
   "cell_type": "code",
   "execution_count": null,
   "metadata": {},
   "outputs": [],
   "source": [
    "# show all products function\n",
    "def showRecords(cart):\n",
    "    \"\"\"\n",
    "    @Input -> cart which is a list of items\n",
    "    Prints all items in formatted method\n",
    "    Returns none\n",
    "    \"\"\"\n",
    "    #define format characters\n",
    "    myspace = \" \"\n",
    "    mydash = \"-\"\n",
    "    #print the header\n",
    "    #HERE column for Code has 10 space , Product=41 , Price =15 ,Qunatity=17 and Shipping method the rest.\n",
    "    print(f\"Code{myspace*6}Product{myspace*34}Price ${myspace*8}Quantity{myspace*9}Shipping Method\")\n",
    "    print(f\"{mydash*5}{myspace*5}{mydash*36}{myspace*5}{mydash*10}{myspace*5}{mydash*12}{myspace*5}{mydash*15}\")\n",
    "    \n",
    "    for each_item in cart:\n",
    "        #In order to display the columns well formatted\n",
    "        #WE will take the following formular to get the space remaining\n",
    "        #TOTAL_SPACE  - len(current_string) as showing below\n",
    "        print(f\"{each_item[0]}{myspace*(10-(len(str(each_item[0]))))}{each_item[1]}{myspace*(41-(len(str(each_item[1]))))}{each_item[2]}{myspace*(15-(len(str(each_item[2]))))}{each_item[3]}{myspace*(17-(len(str(each_item[3]))))}{each_item[4]}\")\n",
    "        \n",
    "    \n",
    "    print(\"\\n\")\n",
    "    #display cost\n",
    "    print(f\"Total Cost is  ${totalCost(cart)}\")"
   ]
  },
  {
   "cell_type": "code",
   "execution_count": 30,
   "metadata": {},
   "outputs": [],
   "source": [
    "def sortRecords(cart):\n",
    "    \"\"\"\n",
    "    Uses Lambda function to sort the cart \n",
    "    We are only sorted depending on the first values of each sublist which is code\n",
    "    Return sorted list\n",
    "    \"\"\"\n",
    "    cart = sorted(cart, key=lambda item: item[0])\n",
    "    showRecords(cart)\n"
   ]
  },
  {
   "cell_type": "code",
   "execution_count": 39,
   "metadata": {},
   "outputs": [],
   "source": [
    "# search record\n",
    "def searchRecord(cart):\n",
    "    \"\"\"\n",
    "    Return a sorted cart with the Items that had keyword searched for\n",
    "    \"\"\"\n",
    "    print(\"Search Results are ...\")\n",
    "    found_items = []\n",
    "    #ask for the keyword\n",
    "    keyword = input(\"Enter the keyword for the search:   \")\n",
    "    for item in cart:\n",
    "        #check if their is any element with the keyword\n",
    "        if len([a for a in item if keyword in str(a)])>0:\n",
    "            found_items.append(item)\n",
    "    else:\n",
    "        pass\n",
    "    \n",
    "    return sortRecords(found_items)"
   ]
  },
  {
   "cell_type": "code",
   "execution_count": 36,
   "metadata": {},
   "outputs": [],
   "source": [
    "def Controller():\n",
    "    \"\"\"\n",
    "    This is the controller function for the system\n",
    "    \"\"\"\n",
    "    print(\"\"\"\n",
    "    1. Add Items to Cart  \n",
    "    2. ShowRecords  \n",
    "    3. Sort You Cart  \n",
    "    4. Search for Items   \n",
    "    Any Character to  Exit\n",
    "    \"\"\")\n",
    "    \n",
    "    choice = input(\"Enter Choice:  \")\n",
    "    \n",
    "    if choice == \"1\":\n",
    "        addRecord()\n",
    "    elif choice == \"2\":\n",
    "        showRecords(cart_items)\n",
    "        #call the controller function after display\n",
    "        print(\"\\n\\n\")\n",
    "        Controller()\n",
    "    elif choice == \"3\":\n",
    "        sortRecords(cart_items)\n",
    "        #call the controller\n",
    "        print(\"\\n\\n\")\n",
    "        Controller()\n",
    "    elif choice == \"4\":\n",
    "        searchRecord(cart_items)\n",
    "        print(\"\\n\\n\")\n",
    "        Controller()\n",
    "    else:\n",
    "        print(\"\\nEXITING...........\\n\")\n",
    "        "
   ]
  },
  {
   "cell_type": "code",
   "execution_count": 37,
   "metadata": {},
   "outputs": [],
   "source": [
    "# call the function to create cart and product information\n",
    "#create the shooping items and empty cart from the list\n",
    "# This variables are created globally\n",
    "productList , priceList , cart_items =  ReadFileAndCreateCart()\n",
    "# main function\n",
    "def main():\n",
    "    \"\"\"\n",
    "    These function is used to call all other functions\n",
    "    \"\"\"\n",
    "    print(\"Welcome to Toowoomba Shopping Site\")\n",
    "    print(\"Please  select what you want to view\\n\")\n",
    "    Controller()"
   ]
  },
  {
   "cell_type": "code",
   "execution_count": 38,
   "metadata": {},
   "outputs": [
    {
     "name": "stdout",
     "output_type": "stream",
     "text": [
      "Welcome to Toowoomba Shopping Site\n",
      "Please  select what you want to view\n",
      "\n",
      "\n",
      "    1. Add Items to Cart  \n",
      "    2. ShowRecords  \n",
      "    3. Sort You Cart  \n",
      "    4. Search for Items   \n",
      "    Any Character to  Exit\n",
      "    \n"
     ]
    },
    {
     "name": "stdin",
     "output_type": "stream",
     "text": [
      "Enter Choice:   1\n",
      "Please enter the product code:   23\n",
      "Enter the Quantity:   4\n",
      "Enter Delivery Method (Delivery or Pick-Up):    Delivery\n"
     ]
    },
    {
     "name": "stdout",
     "output_type": "stream",
     "text": [
      "All are good\n",
      "Item with 23  added to cart\n",
      "\n",
      "\n",
      "\n"
     ]
    },
    {
     "name": "stdin",
     "output_type": "stream",
     "text": [
      "Please enter the product code:   37\n",
      "Enter the Quantity:   2\n",
      "Enter Delivery Method (Delivery or Pick-Up):    Delivery\n"
     ]
    },
    {
     "name": "stdout",
     "output_type": "stream",
     "text": [
      "All are good\n",
      "Item with 37  added to cart\n",
      "\n",
      "\n",
      "\n"
     ]
    },
    {
     "name": "stdin",
     "output_type": "stream",
     "text": [
      "Please enter the product code:   0\n",
      "Enter the Quantity:   3\n",
      "Enter Delivery Method (Delivery or Pick-Up):    Pick-up\n"
     ]
    },
    {
     "name": "stdout",
     "output_type": "stream",
     "text": [
      "All are good\n",
      "Item with 0  added to cart\n",
      "\n",
      "\n",
      "\n"
     ]
    },
    {
     "name": "stdin",
     "output_type": "stream",
     "text": [
      "Please enter the product code:   39\n",
      "Enter the Quantity:   34\n",
      "Enter Delivery Method (Delivery or Pick-Up):    Pick-up\n"
     ]
    },
    {
     "name": "stdout",
     "output_type": "stream",
     "text": [
      "All are good\n",
      "Item with 39  added to cart\n",
      "\n",
      "\n",
      "\n"
     ]
    },
    {
     "name": "stdin",
     "output_type": "stream",
     "text": [
      "Please enter the product code:   1\n",
      "Enter the Quantity:   56\n",
      "Enter Delivery Method (Delivery or Pick-Up):    Pick-up\n"
     ]
    },
    {
     "name": "stdout",
     "output_type": "stream",
     "text": [
      "All are good\n",
      "Item with 1  added to cart\n",
      "\n",
      "\n",
      "\n"
     ]
    },
    {
     "name": "stdin",
     "output_type": "stream",
     "text": [
      "Please enter the product code:   35\n",
      "Enter the Quantity:   1\n",
      "Enter Delivery Method (Delivery or Pick-Up):    Delivery\n"
     ]
    },
    {
     "name": "stdout",
     "output_type": "stream",
     "text": [
      "All are good\n",
      "Item with 35  added to cart\n",
      "\n",
      "\n",
      "\n"
     ]
    },
    {
     "name": "stdin",
     "output_type": "stream",
     "text": [
      "Please enter the product code:   123\n",
      "Enter the Quantity:   3\n",
      "Enter Delivery Method (Delivery or Pick-Up):    pick-up\n"
     ]
    },
    {
     "name": "stdout",
     "output_type": "stream",
     "text": [
      "Shipping and code are not correct\n",
      "\n",
      "\n",
      "\n"
     ]
    },
    {
     "name": "stdin",
     "output_type": "stream",
     "text": [
      "Please enter the product code:   2\n",
      "Enter the Quantity:   199\n",
      "Enter Delivery Method (Delivery or Pick-Up):    pick-up\n"
     ]
    },
    {
     "name": "stdout",
     "output_type": "stream",
     "text": [
      "Shipping and Quaantity are not correct\n",
      "\n",
      "\n",
      "\n"
     ]
    },
    {
     "name": "stdin",
     "output_type": "stream",
     "text": [
      "Please enter the product code:   end\n"
     ]
    },
    {
     "name": "stdout",
     "output_type": "stream",
     "text": [
      "Code      Product                                  Price $        Quantity         Shipping Method\n",
      "-----     ------------------------------------     ----------     ------------     ---------------\n",
      "23        Glass Storage Jar                        4.95           4                Delivery\n",
      "37        Stainless Steel Colander                 44.95          2                Delivery\n",
      "0         Salad Server Set                         8.7            3                Pick-up\n",
      "39        Pop Container                            22.95          34               Pick-up\n",
      "1         Party Serviette Holder                   11.95          56               Pick-up\n",
      "35        Cherry & Olive Pitter                    27.95          1                Delivery\n",
      "\n",
      "\n",
      "Total Cost is  $1627.01\n",
      "\n",
      "\n",
      "\n",
      "\n",
      "    1. Add Items to Cart  \n",
      "    2. ShowRecords  \n",
      "    3. Sort You Cart  \n",
      "    4. Search for Items   \n",
      "    Any Character to  Exit\n",
      "    \n"
     ]
    },
    {
     "name": "stdin",
     "output_type": "stream",
     "text": [
      "Enter Choice:   2\n"
     ]
    },
    {
     "name": "stdout",
     "output_type": "stream",
     "text": [
      "Code      Product                                  Price $        Quantity         Shipping Method\n",
      "-----     ------------------------------------     ----------     ------------     ---------------\n",
      "23        Glass Storage Jar                        4.95           4                Delivery\n",
      "37        Stainless Steel Colander                 44.95          2                Delivery\n",
      "0         Salad Server Set                         8.7            3                Pick-up\n",
      "39        Pop Container                            22.95          34               Pick-up\n",
      "1         Party Serviette Holder                   11.95          56               Pick-up\n",
      "35        Cherry & Olive Pitter                    27.95          1                Delivery\n",
      "\n",
      "\n",
      "Total Cost is  $1627.01\n",
      "\n",
      "\n",
      "\n",
      "\n",
      "    1. Add Items to Cart  \n",
      "    2. ShowRecords  \n",
      "    3. Sort You Cart  \n",
      "    4. Search for Items   \n",
      "    Any Character to  Exit\n",
      "    \n"
     ]
    },
    {
     "name": "stdin",
     "output_type": "stream",
     "text": [
      "Enter Choice:   3\n"
     ]
    },
    {
     "name": "stdout",
     "output_type": "stream",
     "text": [
      "Code      Product                                  Price $        Quantity         Shipping Method\n",
      "-----     ------------------------------------     ----------     ------------     ---------------\n",
      "0         Salad Server Set                         8.7            3                Pick-up\n",
      "1         Party Serviette Holder                   11.95          56               Pick-up\n",
      "23        Glass Storage Jar                        4.95           4                Delivery\n",
      "35        Cherry & Olive Pitter                    27.95          1                Delivery\n",
      "37        Stainless Steel Colander                 44.95          2                Delivery\n",
      "39        Pop Container                            22.95          34               Pick-up\n",
      "\n",
      "\n",
      "Total Cost is  $1627.01\n",
      "\n",
      "\n",
      "\n",
      "\n",
      "    1. Add Items to Cart  \n",
      "    2. ShowRecords  \n",
      "    3. Sort You Cart  \n",
      "    4. Search for Items   \n",
      "    Any Character to  Exit\n",
      "    \n"
     ]
    },
    {
     "name": "stdin",
     "output_type": "stream",
     "text": [
      "Enter Choice:   4\n",
      "Enter the keyword for the search:    er\n"
     ]
    },
    {
     "name": "stdout",
     "output_type": "stream",
     "text": [
      "Code      Product                                  Price $        Quantity         Shipping Method\n",
      "-----     ------------------------------------     ----------     ------------     ---------------\n",
      "0         Salad Server Set                         8.7            3                Pick-up\n",
      "1         Party Serviette Holder                   11.95          56               Pick-up\n",
      "23        Glass Storage Jar                        4.95           4                Delivery\n",
      "35        Cherry & Olive Pitter                    27.95          1                Delivery\n",
      "37        Stainless Steel Colander                 44.95          2                Delivery\n",
      "39        Pop Container                            22.95          34               Pick-up\n",
      "\n",
      "\n",
      "Total Cost is  $1627.01\n",
      "\n",
      "\n",
      "\n",
      "\n",
      "    1. Add Items to Cart  \n",
      "    2. ShowRecords  \n",
      "    3. Sort You Cart  \n",
      "    4. Search for Items   \n",
      "    Any Character to  Exit\n",
      "    \n"
     ]
    },
    {
     "name": "stdin",
     "output_type": "stream",
     "text": [
      "Enter Choice:   12345\n"
     ]
    },
    {
     "name": "stdout",
     "output_type": "stream",
     "text": [
      "\n",
      "EXITING...........\n",
      "\n"
     ]
    }
   ],
   "source": [
    "#### run the whole program\n",
    "main()"
   ]
  },
  {
   "cell_type": "code",
   "execution_count": null,
   "metadata": {},
   "outputs": [],
   "source": []
  },
  {
   "cell_type": "code",
   "execution_count": null,
   "metadata": {},
   "outputs": [],
   "source": []
  },
  {
   "cell_type": "code",
   "execution_count": null,
   "metadata": {},
   "outputs": [],
   "source": []
  }
 ],
 "metadata": {
  "kernelspec": {
   "display_name": "Python 3",
   "language": "python",
   "name": "python3"
  },
  "language_info": {
   "codemirror_mode": {
    "name": "ipython",
    "version": 3
   },
   "file_extension": ".py",
   "mimetype": "text/x-python",
   "name": "python",
   "nbconvert_exporter": "python",
   "pygments_lexer": "ipython3",
   "version": "3.8.5"
  }
 },
 "nbformat": 4,
 "nbformat_minor": 4
}
